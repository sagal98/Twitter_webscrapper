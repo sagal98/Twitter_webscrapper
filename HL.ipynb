{
 "cells": [
  {
   "cell_type": "code",
   "execution_count": null,
   "metadata": {},
   "outputs": [],
   "source": [
    "from selenium.webdriver.common.keys import Keys \n",
    "from selenium.webdriver.common.by import By\n",
    "from selenium.webdriver.support.ui import WebDriverWait\n",
    "# from selenium.common.exceptions import NoSuchElementException\n",
    "# from selenium.webdriver import Chrome \n",
    "from selenium import webdriver\n",
    "from webdriver_manager.chrome import ChromeDriverManager\n",
    "\n",
    "import csv\n",
    "from getpass import getpass \n",
    "import time \n",
    "from time import sleep \n",
    "from selenium.webdriver.common.keys import Keys \n",
    "from selenium.common.exceptions import NoSuchElementException\n",
    "from selenium.common.exceptions import StaleElementReferenceException\n",
    "from selenium.webdriver.support import expected_conditions as EC\n",
    "from selenium.common.exceptions import TimeoutException\n",
    "#depending on the browser used \n",
    "#from msedge.selenium_tools import Edge, EdgeOptions\n",
    "#from selenium.webdriver import Chrome \n",
    "#from selenium.webdriver import Firefox \n",
    "from selenium.webdriver.chrome.service import Service\n",
    "import pandas as pd"
   ]
  },
  {
   "cell_type": "code",
   "execution_count": null,
   "metadata": {},
   "outputs": [],
   "source": [
    "driver_path = \"C:/Users/sagal/miniconda3/condabin/chromedriver.exe\"\n",
    "service = Service(driver_path)\n",
    "driver = webdriver.Chrome(service=service)\n",
    "driver.get('https://www.hl.co.uk/')\n",
    "driver.maximize_window()\n"
   ]
  },
  {
   "cell_type": "code",
   "execution_count": null,
   "metadata": {},
   "outputs": [],
   "source": [
    "#accept the cookies and cache\n",
    "driver.find_element_by_xpath('//*[@id=\"acceptCookieButton\"]').click()"
   ]
  },
  {
   "cell_type": "code",
   "execution_count": null,
   "metadata": {},
   "outputs": [],
   "source": [
    "#find the full list of funds on the website\n",
    "driver.find_element_by_xpath('//*[@id=\"nav16512\"]').click()\n",
    "driver.find_element_by_xpath('//*[@id=\"fund-search\"]/div[2]/a').click()"
   ]
  },
  {
   "cell_type": "code",
   "execution_count": null,
   "metadata": {},
   "outputs": [],
   "source": [
    "max_page = driver.find_element(By.XPATH, '//*[@id=\"fund-search\"]/div[3]/div/div[3]/nav/ul/li[9]/a').text\n",
    "page_num_tot = int(max_page)*20\n",
    "link_list = []\n",
    "for i in range(0,page_num_tot,20 ):\n",
    "    url = \"https://www.hl.co.uk/funds/fund-discounts,-prices--and--factsheets/search-results?start=\" +str(i)+ \"&rpp=20&lo=0&sort=fd.full_description&sort_dir=asc\"\n",
    "    driver.get(url)\n",
    "    time.sleep(0.2)\n",
    "    container = driver.find_element_by_xpath('//*[@id=\"fund-search\"]/div[3]/div/div[2]/div/div/div/div/table/tbody')\n",
    "    list_funds = container.find_elements_by_xpath('./tr')\n",
    "    for funds in list_funds:\n",
    "        link_list.append(funds.find_element(By.TAG_NAME,'a').get_attribute('href'))"
   ]
  },
  {
   "cell_type": "code",
   "execution_count": null,
   "metadata": {},
   "outputs": [],
   "source": [
    "HL_funds = {'link': [], 'fund_name': [], 'net_inital_charges': [], 'net_ongoing_charges': []}\n",
    "\n",
    "for link in link_list:\n",
    "    driver.get(link)\n",
    "    HL_funds['link'].append(link)\n",
    "    time.sleep(0.5)\n",
    "    try:\n",
    "        fund = driver.find_element(By.XPATH,'//*[@id=\"security-title\"]/h1').text\n",
    "        HL_funds['fund_name'].append(fund)\n",
    "        net_initial_charge = driver.find_element(By.XPATH,'//*[@id=\"security-factsheet\"]/div/div[7]/div[1]/div[1]/div[1]/table/tbody/tr[5]/td').text\n",
    "        HL_funds['net_inital_charges'].append(net_initial_charge)\n",
    "        net_ongoing_charge = driver.find_element(By.XPATH,'//*[@id=\"security-factsheet\"]/div/div[7]/div[1]/div[1]/div[2]/table/tbody/tr[5]/td').text\n",
    "        HL_funds['net_ongoing_charges'].append(net_ongoing_charge)\n",
    "    except NoSuchElementException:\n",
    "        time.sleep(0.2)"
   ]
  },
  {
   "cell_type": "code",
   "execution_count": null,
   "metadata": {},
   "outputs": [],
   "source": [
    "#check funds\n",
    "print(HL_funds)\n"
   ]
  },
  {
   "cell_type": "code",
   "execution_count": null,
   "metadata": {},
   "outputs": [],
   "source": [
    "len(HL_funds['fund_name'])"
   ]
  },
  {
   "cell_type": "code",
   "execution_count": null,
   "metadata": {},
   "outputs": [],
   "source": [
    "signalOne = [1,2,3,4,5]\n",
    "signalTwo = [1,1,3,4,2]\n",
    "maxequals = []\n",
    "def updateTimes(signalOne, signalTwo):\n",
    "    list(filter(lambda signalOne,SignalTwo: maxequals.append(maxequals) if signalOne == signalTwo else signalOne))"
   ]
  },
  {
   "cell_type": "code",
   "execution_count": null,
   "metadata": {},
   "outputs": [],
   "source": [
    "updateTimes(signalOne,signalTwo)"
   ]
  },
  {
   "cell_type": "code",
   "execution_count": null,
   "metadata": {},
   "outputs": [],
   "source": []
  }
 ],
 "metadata": {
  "interpreter": {
   "hash": "65cedc754e049f79ab5c8b8d6a68e73b192eb393a3b95d2fa46765b24b38f0e4"
  },
  "kernelspec": {
   "display_name": "Python 3.9.7 ('base')",
   "language": "python",
   "name": "python3"
  },
  "language_info": {
   "codemirror_mode": {
    "name": "ipython",
    "version": 3
   },
   "file_extension": ".py",
   "mimetype": "text/x-python",
   "name": "python",
   "nbconvert_exporter": "python",
   "pygments_lexer": "ipython3",
   "version": "3.9.7"
  },
  "orig_nbformat": 4
 },
 "nbformat": 4,
 "nbformat_minor": 2
}
