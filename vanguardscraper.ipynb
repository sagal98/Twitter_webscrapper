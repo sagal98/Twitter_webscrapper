{
 "cells": [
  {
   "cell_type": "code",
   "execution_count": 2,
   "metadata": {},
   "outputs": [],
   "source": [
    "from selenium.webdriver.common.keys import Keys \n",
    "from selenium.webdriver.common.by import By\n",
    "from selenium.webdriver.support.ui import WebDriverWait\n",
    "# from selenium.common.exceptions import NoSuchElementException\n",
    "# from selenium.webdriver import Chrome \n",
    "from selenium import webdriver\n",
    "from webdriver_manager.chrome import ChromeDriverManager\n",
    "\n",
    "import csv\n",
    "from getpass import getpass \n",
    "import time \n",
    "from time import sleep \n",
    "\n",
    "from selenium.webdriver.common.keys import Keys \n",
    "from selenium.common.exceptions import NoSuchElementException\n",
    "from selenium.common.exceptions import StaleElementReferenceException\n",
    "from selenium.webdriver.support import expected_conditions as EC\n",
    "from selenium.common.exceptions import TimeoutException\n",
    "#depending on the browser used \n",
    "#from msedge.selenium_tools import Edge, EdgeOptions\n",
    "#from selenium.webdriver import Chrome \n",
    "#from selenium.webdriver import Firefox \n",
    "from selenium.webdriver.chrome.service import Service\n",
    "import pandas as pd"
   ]
  },
  {
   "cell_type": "code",
   "execution_count": 6,
   "metadata": {},
   "outputs": [],
   "source": [
    "driver_path = \"C:/Users/sagal/OneDrive/Documents/AiCore/miniconda3/condabin/chromedriver.exe\"\n",
    "service = Service(driver_path)\n",
    "driver = webdriver.Chrome(service=service)\n",
    "driver.get('https://www.vanguardinvestor.co.uk/')\n",
    "driver.maximize_window()"
   ]
  },
  {
   "cell_type": "code",
   "execution_count": 9,
   "metadata": {},
   "outputs": [
    {
     "name": "stderr",
     "output_type": "stream",
     "text": [
      "C:\\Users\\sagal\\AppData\\Local\\Temp/ipykernel_15312/2026646281.py:2: DeprecationWarning: find_element_by_* commands are deprecated. Please use find_element() instead\n",
      "  driver.find_element_by_xpath('//*[@id=\"bannerButton\"]').click()\n"
     ]
    }
   ],
   "source": [
    "#accept the cookies and cache\n",
    "driver.find_element_by_xpath('//*[@id=\"bannerButton\"]').click()"
   ]
  },
  {
   "cell_type": "code",
   "execution_count": 11,
   "metadata": {},
   "outputs": [
    {
     "name": "stderr",
     "output_type": "stream",
     "text": [
      "C:\\Users\\sagal\\AppData\\Local\\Temp/ipykernel_15312/4054917130.py:2: DeprecationWarning: find_element_by_* commands are deprecated. Please use find_element() instead\n",
      "  driver.find_element_by_xpath('/html/body/ukd-app/ukd-pla-nav/header/nav/ukd-nav-bar/div/div/div/div[3]/div/span/button').click()\n",
      "C:\\Users\\sagal\\AppData\\Local\\Temp/ipykernel_15312/4054917130.py:3: DeprecationWarning: find_element_by_* commands are deprecated. Please use find_element() instead\n",
      "  driver.find_element_by_xpath('//*[@id=\"undefined\"]/span/a').click()\n"
     ]
    }
   ],
   "source": [
    "#find the full list of funds on the website\n",
    "driver.find_element_by_xpath('/html/body/ukd-app/ukd-pla-nav/header/nav/ukd-nav-bar/div/div/div/div[3]/div/span/button').click()\n",
    "driver.find_element_by_xpath('//*[@id=\"undefined\"]/span/a').click()"
   ]
  },
  {
   "cell_type": "code",
   "execution_count": 98,
   "metadata": {},
   "outputs": [
    {
     "name": "stderr",
     "output_type": "stream",
     "text": [
      "C:\\Users\\sagal\\AppData\\Local\\Temp/ipykernel_15312/1154603085.py:1: DeprecationWarning: find_element_by_* commands are deprecated. Please use find_element() instead\n",
      "  container = driver.find_element_by_xpath('//div[@class =\"col-lg-12 col-md-12 col-sm-12 cardSection\"]')\n"
     ]
    }
   ],
   "source": [
    "container = driver.find_element_by_xpath('//div[@class =\"col-lg-12 col-md-12 col-sm-12 cardSection\"]')"
   ]
  },
  {
   "cell_type": "code",
   "execution_count": 167,
   "metadata": {},
   "outputs": [
    {
     "name": "stderr",
     "output_type": "stream",
     "text": [
      "c:\\Users\\sagal\\miniconda3\\lib\\site-packages\\selenium\\webdriver\\remote\\webelement.py:426: UserWarning: find_elements_by_* commands are deprecated. Please use find_elements() instead\n",
      "  warnings.warn(\"find_elements_by_* commands are deprecated. Please use find_elements() instead\")\n",
      "c:\\Users\\sagal\\miniconda3\\lib\\site-packages\\selenium\\webdriver\\remote\\webelement.py:359: UserWarning: find_elements_by_* commands are deprecated. Please use find_elements() instead\n",
      "  warnings.warn(\"find_elements_by_* commands are deprecated. Please use find_elements() instead\")\n",
      "c:\\Users\\sagal\\miniconda3\\lib\\site-packages\\selenium\\webdriver\\remote\\webelement.py:341: UserWarning: find_element_by_* commands are deprecated. Please use find_element() instead\n",
      "  warnings.warn(\"find_element_by_* commands are deprecated. Please use find_element() instead\")\n",
      "c:\\Users\\sagal\\miniconda3\\lib\\site-packages\\selenium\\webdriver\\remote\\webelement.py:393: UserWarning: find_element_by_* commands are deprecated. Please use find_element() instead\n",
      "  warnings.warn(\"find_element_by_* commands are deprecated. Please use find_element() instead\")\n"
     ]
    }
   ],
   "source": [
    "list_funds = container.find_elements_by_xpath('./div')\n",
    "fund_info_container = container.find_elements_by_tag_name('mat-card-content')\n",
    "# fund_info =fund_info_container.find_element_by_xpath('./div')\n",
    "fund_information = {'fund_name':[],'ongoing_charge':[],'account_fee':[]}\n",
    "#{'twitter_username':[] , 'twitter_handle': [] ,'twitter_postdate': [],'twitter_comment':[],'twitter_reply_cnt':[],'twitter_like_cnt':[],'twitter_retweet_cnt':[]}\n",
    "for funds in list_funds:\n",
    "    fund_information['fund_name'].append(funds.find_element_by_tag_name('mat-card-header').text)\n",
    "\n",
    "for funds in fund_info_container:\n",
    "    fund_information['ongoing_charge'].append(funds.find_element_by_xpath('./div/div[5]/div[2]').text)\n",
    "    fund_information['account_fee'].append('0.15')"
   ]
  },
  {
   "cell_type": "code",
   "execution_count": 181,
   "metadata": {},
   "outputs": [
    {
     "data": {
      "text/html": [
       "<div>\n",
       "<style scoped>\n",
       "    .dataframe tbody tr th:only-of-type {\n",
       "        vertical-align: middle;\n",
       "    }\n",
       "\n",
       "    .dataframe tbody tr th {\n",
       "        vertical-align: top;\n",
       "    }\n",
       "\n",
       "    .dataframe thead th {\n",
       "        text-align: right;\n",
       "    }\n",
       "</style>\n",
       "<table border=\"1\" class=\"dataframe\">\n",
       "  <thead>\n",
       "    <tr style=\"text-align: right;\">\n",
       "      <th></th>\n",
       "      <th>fund_name</th>\n",
       "      <th>ongoing_charge</th>\n",
       "      <th>account_fee</th>\n",
       "      <th>total_fee</th>\n",
       "    </tr>\n",
       "  </thead>\n",
       "  <tbody>\n",
       "    <tr>\n",
       "      <th>0</th>\n",
       "      <td>LifeStrategy® 20% Equity Fund</td>\n",
       "      <td>0.22</td>\n",
       "      <td>0.15</td>\n",
       "      <td>0.37</td>\n",
       "    </tr>\n",
       "    <tr>\n",
       "      <th>1</th>\n",
       "      <td>LifeStrategy® 40% Equity Fund</td>\n",
       "      <td>0.22</td>\n",
       "      <td>0.15</td>\n",
       "      <td>0.37</td>\n",
       "    </tr>\n",
       "    <tr>\n",
       "      <th>2</th>\n",
       "      <td>LifeStrategy® 60% Equity Fund</td>\n",
       "      <td>0.22</td>\n",
       "      <td>0.15</td>\n",
       "      <td>0.37</td>\n",
       "    </tr>\n",
       "    <tr>\n",
       "      <th>3</th>\n",
       "      <td>LifeStrategy® 80% Equity Fund</td>\n",
       "      <td>0.22</td>\n",
       "      <td>0.15</td>\n",
       "      <td>0.37</td>\n",
       "    </tr>\n",
       "    <tr>\n",
       "      <th>4</th>\n",
       "      <td>LifeStrategy® 100% Equity Fund</td>\n",
       "      <td>0.22</td>\n",
       "      <td>0.15</td>\n",
       "      <td>0.37</td>\n",
       "    </tr>\n",
       "    <tr>\n",
       "      <th>...</th>\n",
       "      <td>...</td>\n",
       "      <td>...</td>\n",
       "      <td>...</td>\n",
       "      <td>...</td>\n",
       "    </tr>\n",
       "    <tr>\n",
       "      <th>74</th>\n",
       "      <td>U.S. Investment Grade Credit Index Fund</td>\n",
       "      <td>0.12</td>\n",
       "      <td>0.15</td>\n",
       "      <td>0.27</td>\n",
       "    </tr>\n",
       "    <tr>\n",
       "      <th>75</th>\n",
       "      <td>USD Corporate 1-3 Year Bond UCITS ETF</td>\n",
       "      <td>0.09</td>\n",
       "      <td>0.15</td>\n",
       "      <td>0.24</td>\n",
       "    </tr>\n",
       "    <tr>\n",
       "      <th>76</th>\n",
       "      <td>USD Corporate Bond UCITS ETF</td>\n",
       "      <td>0.09</td>\n",
       "      <td>0.15</td>\n",
       "      <td>0.24</td>\n",
       "    </tr>\n",
       "    <tr>\n",
       "      <th>77</th>\n",
       "      <td>USD Emerging Markets Government Bond UCITS ETF</td>\n",
       "      <td>0.25</td>\n",
       "      <td>0.15</td>\n",
       "      <td>0.40</td>\n",
       "    </tr>\n",
       "    <tr>\n",
       "      <th>78</th>\n",
       "      <td>USD Treasury Bond UCITS ETF</td>\n",
       "      <td>0.07</td>\n",
       "      <td>0.15</td>\n",
       "      <td>0.22</td>\n",
       "    </tr>\n",
       "  </tbody>\n",
       "</table>\n",
       "<p>79 rows × 4 columns</p>\n",
       "</div>"
      ],
      "text/plain": [
       "                                         fund_name  ongoing_charge  \\\n",
       "0                    LifeStrategy® 20% Equity Fund            0.22   \n",
       "1                    LifeStrategy® 40% Equity Fund            0.22   \n",
       "2                    LifeStrategy® 60% Equity Fund            0.22   \n",
       "3                    LifeStrategy® 80% Equity Fund            0.22   \n",
       "4                   LifeStrategy® 100% Equity Fund            0.22   \n",
       "..                                             ...             ...   \n",
       "74         U.S. Investment Grade Credit Index Fund            0.12   \n",
       "75           USD Corporate 1-3 Year Bond UCITS ETF            0.09   \n",
       "76                    USD Corporate Bond UCITS ETF            0.09   \n",
       "77  USD Emerging Markets Government Bond UCITS ETF            0.25   \n",
       "78                     USD Treasury Bond UCITS ETF            0.07   \n",
       "\n",
       "    account_fee  total_fee  \n",
       "0          0.15       0.37  \n",
       "1          0.15       0.37  \n",
       "2          0.15       0.37  \n",
       "3          0.15       0.37  \n",
       "4          0.15       0.37  \n",
       "..          ...        ...  \n",
       "74         0.15       0.27  \n",
       "75         0.15       0.24  \n",
       "76         0.15       0.24  \n",
       "77         0.15       0.40  \n",
       "78         0.15       0.22  \n",
       "\n",
       "[79 rows x 4 columns]"
      ]
     },
     "execution_count": 181,
     "metadata": {},
     "output_type": "execute_result"
    }
   ],
   "source": [
    "df=pd.DataFrame(fund_information)\n",
    "df['ongoing_charge'] = (df['ongoing_charge'].str.strip('%').astype(float))\n",
    "df['account_fee'] = (df['account_fee'].astype(float))\n",
    "df['total_fee'] = df['ongoing_charge'] + df['account_fee']\n",
    "df"
   ]
  },
  {
   "cell_type": "code",
   "execution_count": null,
   "metadata": {},
   "outputs": [],
   "source": []
  }
 ],
 "metadata": {
  "interpreter": {
   "hash": "65cedc754e049f79ab5c8b8d6a68e73b192eb393a3b95d2fa46765b24b38f0e4"
  },
  "kernelspec": {
   "display_name": "Python 3.9.7 ('base')",
   "language": "python",
   "name": "python3"
  },
  "language_info": {
   "codemirror_mode": {
    "name": "ipython",
    "version": 3
   },
   "file_extension": ".py",
   "mimetype": "text/x-python",
   "name": "python",
   "nbconvert_exporter": "python",
   "pygments_lexer": "ipython3",
   "version": "3.9.7"
  },
  "orig_nbformat": 4
 },
 "nbformat": 4,
 "nbformat_minor": 2
}
