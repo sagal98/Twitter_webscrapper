{
 "cells": [
  {
   "cell_type": "code",
   "execution_count": 188,
   "metadata": {},
   "outputs": [],
   "source": [
    "from selenium.webdriver.common.keys import Keys \n",
    "from selenium.webdriver.common.by import By\n",
    "from selenium.webdriver.support.ui import WebDriverWait\n",
    "# from selenium.common.exceptions import NoSuchElementException\n",
    "# from selenium.webdriver import Chrome \n",
    "from selenium import webdriver\n",
    "from webdriver_manager.chrome import ChromeDriverManager\n",
    "\n",
    "import csv\n",
    "from getpass import getpass \n",
    "import time \n",
    "from time import sleep \n",
    "\n",
    "from selenium.webdriver.common.keys import Keys \n",
    "from selenium.common.exceptions import NoSuchElementException\n",
    "from selenium.common.exceptions import StaleElementReferenceException\n",
    "from selenium.webdriver.support import expected_conditions as EC\n",
    "from selenium.common.exceptions import TimeoutException\n",
    "#depending on the browser used \n",
    "#from msedge.selenium_tools import Edge, EdgeOptions\n",
    "#from selenium.webdriver import Chrome \n",
    "#from selenium.webdriver import Firefox \n",
    "from selenium.webdriver.chrome.service import Service\n",
    "import pandas as pd"
   ]
  },
  {
   "cell_type": "code",
   "execution_count": 189,
   "metadata": {},
   "outputs": [],
   "source": [
    "driver_path = \"C:/Users/sagal/OneDrive/Documents/AiCore/miniconda3/condabin/chromedriver.exe\"\n",
    "service = Service(driver_path)\n",
    "driver = webdriver.Chrome(service=service)\n",
    "driver.get('https://www.vanguardinvestor.co.uk/')\n",
    "driver.maximize_window()"
   ]
  },
  {
   "cell_type": "code",
   "execution_count": 190,
   "metadata": {},
   "outputs": [
    {
     "name": "stderr",
     "output_type": "stream",
     "text": [
      "C:\\Users\\sagal\\AppData\\Local\\Temp/ipykernel_15312/2026646281.py:2: DeprecationWarning: find_element_by_* commands are deprecated. Please use find_element() instead\n",
      "  driver.find_element_by_xpath('//*[@id=\"bannerButton\"]').click()\n"
     ]
    }
   ],
   "source": [
    "#accept the cookies and cache\n",
    "driver.find_element_by_xpath('//*[@id=\"bannerButton\"]').click()"
   ]
  },
  {
   "cell_type": "code",
   "execution_count": 191,
   "metadata": {},
   "outputs": [
    {
     "name": "stderr",
     "output_type": "stream",
     "text": [
      "C:\\Users\\sagal\\AppData\\Local\\Temp/ipykernel_15312/4054917130.py:2: DeprecationWarning: find_element_by_* commands are deprecated. Please use find_element() instead\n",
      "  driver.find_element_by_xpath('/html/body/ukd-app/ukd-pla-nav/header/nav/ukd-nav-bar/div/div/div/div[3]/div/span/button').click()\n",
      "C:\\Users\\sagal\\AppData\\Local\\Temp/ipykernel_15312/4054917130.py:3: DeprecationWarning: find_element_by_* commands are deprecated. Please use find_element() instead\n",
      "  driver.find_element_by_xpath('//*[@id=\"undefined\"]/span/a').click()\n"
     ]
    }
   ],
   "source": [
    "#find the full list of funds on the website\n",
    "driver.find_element_by_xpath('/html/body/ukd-app/ukd-pla-nav/header/nav/ukd-nav-bar/div/div/div/div[3]/div/span/button').click()\n",
    "driver.find_element_by_xpath('//*[@id=\"undefined\"]/span/a').click()"
   ]
  },
  {
   "cell_type": "code",
   "execution_count": 192,
   "metadata": {},
   "outputs": [
    {
     "name": "stderr",
     "output_type": "stream",
     "text": [
      "C:\\Users\\sagal\\AppData\\Local\\Temp/ipykernel_15312/1154603085.py:1: DeprecationWarning: find_element_by_* commands are deprecated. Please use find_element() instead\n",
      "  container = driver.find_element_by_xpath('//div[@class =\"col-lg-12 col-md-12 col-sm-12 cardSection\"]')\n"
     ]
    }
   ],
   "source": [
    "container = driver.find_element_by_xpath('//div[@class =\"col-lg-12 col-md-12 col-sm-12 cardSection\"]')"
   ]
  },
  {
   "cell_type": "code",
   "execution_count": 193,
   "metadata": {},
   "outputs": [
    {
     "name": "stderr",
     "output_type": "stream",
     "text": [
      "c:\\Users\\sagal\\miniconda3\\lib\\site-packages\\selenium\\webdriver\\remote\\webelement.py:426: UserWarning: find_elements_by_* commands are deprecated. Please use find_elements() instead\n",
      "  warnings.warn(\"find_elements_by_* commands are deprecated. Please use find_elements() instead\")\n",
      "c:\\Users\\sagal\\miniconda3\\lib\\site-packages\\selenium\\webdriver\\remote\\webelement.py:359: UserWarning: find_elements_by_* commands are deprecated. Please use find_elements() instead\n",
      "  warnings.warn(\"find_elements_by_* commands are deprecated. Please use find_elements() instead\")\n",
      "c:\\Users\\sagal\\miniconda3\\lib\\site-packages\\selenium\\webdriver\\remote\\webelement.py:341: UserWarning: find_element_by_* commands are deprecated. Please use find_element() instead\n",
      "  warnings.warn(\"find_element_by_* commands are deprecated. Please use find_element() instead\")\n",
      "c:\\Users\\sagal\\miniconda3\\lib\\site-packages\\selenium\\webdriver\\remote\\webelement.py:393: UserWarning: find_element_by_* commands are deprecated. Please use find_element() instead\n",
      "  warnings.warn(\"find_element_by_* commands are deprecated. Please use find_element() instead\")\n"
     ]
    }
   ],
   "source": [
    "list_funds = container.find_elements_by_xpath('./div')\n",
    "fund_info_container = container.find_elements_by_tag_name('mat-card-content')\n",
    "# fund_info =fund_info_container.find_element_by_xpath('./div')\n",
    "fund_information = {'fund_name':[],'ongoing_charge':[],'account_fee':[]}\n",
    "for funds in list_funds:\n",
    "    fund_information['fund_name'].append(funds.find_element_by_tag_name('mat-card-header').text)\n",
    "\n",
    "for funds in fund_info_container:\n",
    "    fund_information['ongoing_charge'].append(funds.find_element_by_xpath('./div/div[5]/div[2]').text)\n",
    "    fund_information['account_fee'].append('0.15')"
   ]
  },
  {
   "cell_type": "code",
   "execution_count": 197,
   "metadata": {},
   "outputs": [],
   "source": [
    "df=pd.DataFrame(fund_information)\n",
    "df['ongoing_charge'] = (df['ongoing_charge'].str.strip('%').astype(float))\n",
    "df['account_fee'] = (df['account_fee'].astype(float))\n",
    "df['total_fee'] = (df['ongoing_charge'] + df['account_fee'])/100\n",
    "df\n",
    "df.to_excel(r\"C:/Users/sagal/Documents/WebscrapingProject/sample.xlsx\")"
   ]
  },
  {
   "cell_type": "code",
   "execution_count": null,
   "metadata": {},
   "outputs": [],
   "source": []
  }
 ],
 "metadata": {
  "interpreter": {
   "hash": "65cedc754e049f79ab5c8b8d6a68e73b192eb393a3b95d2fa46765b24b38f0e4"
  },
  "kernelspec": {
   "display_name": "Python 3.9.7 ('base')",
   "language": "python",
   "name": "python3"
  },
  "language_info": {
   "codemirror_mode": {
    "name": "ipython",
    "version": 3
   },
   "file_extension": ".py",
   "mimetype": "text/x-python",
   "name": "python",
   "nbconvert_exporter": "python",
   "pygments_lexer": "ipython3",
   "version": "3.9.7"
  },
  "orig_nbformat": 4
 },
 "nbformat": 4,
 "nbformat_minor": 2
}
